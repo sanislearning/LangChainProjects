{
  "nbformat": 4,
  "nbformat_minor": 0,
  "metadata": {
    "colab": {
      "provenance": [],
      "authorship_tag": "ABX9TyMF4vd5byJZC4G2RQkoltVk",
      "include_colab_link": true
    },
    "kernelspec": {
      "name": "python3",
      "display_name": "Python 3"
    },
    "language_info": {
      "name": "python"
    }
  },
  "cells": [
    {
      "cell_type": "markdown",
      "metadata": {
        "id": "view-in-github",
        "colab_type": "text"
      },
      "source": [
        "<a href=\"https://colab.research.google.com/github/sanislearning/LangChainProjects/blob/main/SemanticSearchEngine.ipynb\" target=\"_parent\"><img src=\"https://colab.research.google.com/assets/colab-badge.svg\" alt=\"Open In Colab\"/></a>"
      ]
    },
    {
      "cell_type": "code",
      "execution_count": 1,
      "metadata": {
        "id": "MEbJbzURA9yu"
      },
      "outputs": [],
      "source": [
        "#Goal is to familiarize with LangChain's document loader, embedding and vector store abstractions"
      ]
    },
    {
      "cell_type": "code",
      "source": [
        "import getpass\n",
        "import os\n",
        "\n",
        "os.environ[\"LANGSMITH_TRACING\"]='true'\n",
        "os.environ['LANGSMITH_API_KEY']=getpass.getpass()"
      ],
      "metadata": {
        "colab": {
          "base_uri": "https://localhost:8080/"
        },
        "id": "68FLNIQEC75R",
        "outputId": "a1c8ffb2-e7eb-4e8a-9494-ae93440fe399"
      },
      "execution_count": 3,
      "outputs": [
        {
          "name": "stdout",
          "output_type": "stream",
          "text": [
            "··········\n"
          ]
        }
      ]
    },
    {
      "cell_type": "code",
      "source": [
        "if not os.environ.get(\"GOOGLE_API_KEY\"):\n",
        "  os.environ['GOOGLE_API_KEY']=getpass.getpass(\"Enter the Gemini API Key\")"
      ],
      "metadata": {
        "colab": {
          "base_uri": "https://localhost:8080/"
        },
        "id": "qumHXIIODmDs",
        "outputId": "c26b9d0b-b847-4148-c501-d4ce210fa1ca"
      },
      "execution_count": 5,
      "outputs": [
        {
          "name": "stdout",
          "output_type": "stream",
          "text": [
            "Enter the Gemini API Key··········\n"
          ]
        }
      ]
    },
    {
      "cell_type": "code",
      "source": [
        "from langchain.chat_models import init_chat_model\n",
        "llm=init_chat_model(\"gemini-2.0-flash\",model_provider='google_genai')"
      ],
      "metadata": {
        "id": "JnOo-8LHEzRf"
      },
      "execution_count": 6,
      "outputs": []
    },
    {
      "cell_type": "code",
      "source": [
        "from langchain_google_genai import GoogleGenerativeAIEmbeddings #imports the Embedding model related to the Gemini models\n",
        "embeddings=GoogleGenerativeAIEmbeddings(model=\"models/embedding-001\")"
      ],
      "metadata": {
        "id": "3EvlRHcLF8Ab"
      },
      "execution_count": 8,
      "outputs": []
    },
    {
      "cell_type": "code",
      "source": [
        "#Creates a vector store in-memory, ie in the form of a python dictionary and uses cosine similarity to match\n",
        "from langchain_core.vectorstores import InMemoryVectorStore\n",
        "vector_store=InMemoryVectorStore(embeddings)"
      ],
      "metadata": {
        "id": "VJxGYkFEHqY8"
      },
      "execution_count": 10,
      "outputs": []
    },
    {
      "cell_type": "code",
      "source": [],
      "metadata": {
        "id": "Gkmp4rN4IZEa"
      },
      "execution_count": 9,
      "outputs": []
    }
  ]
}