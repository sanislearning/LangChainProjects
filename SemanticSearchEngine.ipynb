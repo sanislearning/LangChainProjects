{
  "nbformat": 4,
  "nbformat_minor": 0,
  "metadata": {
    "colab": {
      "provenance": [],
      "authorship_tag": "ABX9TyOHvyL7voZd3SAQJYu+fkFw",
      "include_colab_link": true
    },
    "kernelspec": {
      "name": "python3",
      "display_name": "Python 3"
    },
    "language_info": {
      "name": "python"
    }
  },
  "cells": [
    {
      "cell_type": "markdown",
      "metadata": {
        "id": "view-in-github",
        "colab_type": "text"
      },
      "source": [
        "<a href=\"https://colab.research.google.com/github/sanislearning/LangChainProjects/blob/main/SemanticSearchEngine.ipynb\" target=\"_parent\"><img src=\"https://colab.research.google.com/assets/colab-badge.svg\" alt=\"Open In Colab\"/></a>"
      ]
    },
    {
      "cell_type": "code",
      "execution_count": 30,
      "metadata": {
        "id": "MEbJbzURA9yu"
      },
      "outputs": [],
      "source": [
        "#Goal is to familiarize with LangChain's document loader, embedding and vector store abstractions"
      ]
    },
    {
      "cell_type": "code",
      "source": [
        "import pandas as pd\n",
        "import numpy as np\n",
        "from google.colab import userdata"
      ],
      "metadata": {
        "id": "7juWTob6tWjH"
      },
      "execution_count": 31,
      "outputs": []
    },
    {
      "cell_type": "code",
      "source": [
        "import getpass\n",
        "import os\n",
        "\n",
        "os.environ[\"LANGSMITH_TRACING\"]='true'\n",
        "os.environ['LANGSMITH_API_KEY']=userdata.get('LANGSMITH_API_KEY')"
      ],
      "metadata": {
        "id": "68FLNIQEC75R"
      },
      "execution_count": 32,
      "outputs": []
    },
    {
      "cell_type": "code",
      "source": [
        "if not os.environ.get(\"GOOGLE_API_KEY\"):\n",
        "  os.environ['GOOGLE_API_KEY']=userdata.get('GOOGLE_API_KEY')"
      ],
      "metadata": {
        "id": "qumHXIIODmDs"
      },
      "execution_count": 33,
      "outputs": []
    },
    {
      "cell_type": "markdown",
      "source": [
        "#Documents"
      ],
      "metadata": {
        "id": "xt3U0y1-lwM3"
      }
    },
    {
      "cell_type": "code",
      "source": [
        "from langchain_core.documents import Document"
      ],
      "metadata": {
        "id": "RhA0W2gtl_qL"
      },
      "execution_count": 34,
      "outputs": []
    },
    {
      "cell_type": "code",
      "source": [
        "from langchain_community.document_loaders import PyPDFLoader\n",
        "from google.colab import drive\n",
        "drive.mount('/content/drive')\n",
        "file_path=\"/content/drive/MyDrive/PData/nke-10k-2023.pdf\"\n",
        "\n",
        "loader=PyPDFLoader(file_path)\n",
        "#PyPDFLoader loads one Document object per PDF page\n",
        "#A Document object contains a unit of text and associated metadata\n",
        "docs=loader.load()\n",
        "print(len(docs))"
      ],
      "metadata": {
        "id": "2Z1OgM0Zlyye",
        "colab": {
          "base_uri": "https://localhost:8080/"
        },
        "outputId": "a947ee6e-4645-420f-e5fc-e7d8300ee6ec"
      },
      "execution_count": 35,
      "outputs": [
        {
          "output_type": "stream",
          "name": "stdout",
          "text": [
            "Drive already mounted at /content/drive; to attempt to forcibly remount, call drive.mount(\"/content/drive\", force_remount=True).\n",
            "107\n"
          ]
        }
      ]
    },
    {
      "cell_type": "code",
      "source": [
        "print(f\"{docs[0].page_content}\")"
      ],
      "metadata": {
        "colab": {
          "base_uri": "https://localhost:8080/"
        },
        "id": "P_H4FEanxoQk",
        "outputId": "9b29fa7c-0cf0-4b87-bb3d-4e2ac28c1558"
      },
      "execution_count": 36,
      "outputs": [
        {
          "output_type": "stream",
          "name": "stdout",
          "text": [
            "Table of Contents\n",
            "UNITED STATES\n",
            "SECURITIES AND EXCHANGE COMMISSION\n",
            "Washington, D.C. 20549\n",
            "FORM 10-K\n",
            "(Mark One)\n",
            "☑  ANNUAL REPORT PURSUANT TO SECTION 13 OR 15(D) OF THE SECURITIES EXCHANGE ACT OF 1934\n",
            "FOR THE FISCAL YEAR ENDED MAY 31, 2023\n",
            "OR\n",
            "☐  TRANSITION REPORT PURSUANT TO SECTION 13 OR 15(D) OF THE SECURITIES EXCHANGE ACT OF 1934\n",
            "FOR THE TRANSITION PERIOD FROM                         TO                         .\n",
            "Commission File No. 1-10635\n",
            "NIKE, Inc.\n",
            "(Exact name of Registrant as specified in its charter)\n",
            "Oregon 93-0584541\n",
            "(State or other jurisdiction of incorporation) (IRS Employer Identification No.)\n",
            "One Bowerman Drive, Beaverton, Oregon 97005-6453\n",
            "(Address of principal executive offices and zip code)\n",
            "(503) 671-6453\n",
            "(Registrant's telephone number, including area code)\n",
            "SECURITIES REGISTERED PURSUANT TO SECTION 12(B) OF THE ACT:\n",
            "Class B Common Stock NKE New York Stock Exchange\n",
            "(Title of each class) (Trading symbol) (Name of each exchange on which registered)\n",
            "SECURITIES REGISTERED PURSUANT TO SECTION 12(G) OF THE ACT:\n",
            "NONE\n",
            "Indicate by check mark: YES NO\n",
            "• if the registrant is a well-known seasoned issuer, as defined in Rule 405 of the Securities Act. þ ¨ \n",
            "• if the registrant is not required to file reports pursuant to Section 13 or Section 15(d) of the Act. ¨ þ \n",
            "• whether the registrant (1) has filed all reports required to be filed by Section 13 or 15(d) of the Securities Exchange Act of 1934 during the preceding\n",
            "12 months (or for such shorter period that the registrant was required to file such reports), and (2) has been subject to such filing requirements for the\n",
            "past 90 days.\n",
            "þ ¨ \n",
            "• whether the registrant has submitted electronically every Interactive Data File required to be submitted pursuant to Rule 405 of Regulation S-T\n",
            "(§232.405 of this chapter) during the preceding 12 months (or for such shorter period that the registrant was required to submit such files).\n",
            "þ ¨ \n",
            "• whether the registrant is a large accelerated filer, an accelerated filer, a non-accelerated filer, a smaller reporting company or an emerging growth company. See the definitions of “large accelerated filer,”\n",
            "“accelerated filer,” “smaller reporting company,” and “emerging growth company” in Rule 12b-2 of the Exchange Act.\n",
            "Large accelerated filer þ Accelerated filer ☐ Non-accelerated filer ☐ Smaller reporting company ☐ Emerging growth company ☐ \n",
            "• if an emerging growth company, if the registrant has elected not to use the extended transition period for complying with any new or revised financial\n",
            "accounting standards provided pursuant to Section 13(a) of the Exchange Act.\n",
            "¨ \n",
            "• whether the registrant has filed a report on and attestation to its management's assessment of the effectiveness of its internal control over financial\n",
            "reporting under Section 404(b) of the Sarbanes-Oxley Act (15 U.S.C. 7262(b)) by the registered public accounting firm that prepared or issued its audit\n",
            "report.\n",
            "þ \n",
            "• if securities are registered pursuant to Section 12(b) of the Act, whether the financial statements of the registrant included in the filing reflect the\n",
            "correction of an error to previously issued financial statements.\n",
            "¨ \n",
            "• whether any of those error corrections are restatements that required a recovery analysis of incentive-based compensation received by any of the\n",
            "registrant's executive officers during the relevant recovery period pursuant to § 240.10D-1(b).\n",
            "¨ \n",
            "• whether the registrant is a shell company (as defined in Rule 12b-2 of the Act). ☐ þ \n",
            "As of November 30, 2022, the aggregate market values of the Registrant's Common Stock held by non-affiliates were:\n",
            "Class A $ 7,831,564,572 \n",
            "Class B 136,467,702,472 \n",
            "$ 144,299,267,044\n"
          ]
        }
      ]
    },
    {
      "cell_type": "code",
      "source": [
        "print(docs[0].metadata)"
      ],
      "metadata": {
        "id": "7o9KkB8HyavV",
        "outputId": "c5c2e00a-1c19-4dd7-a246-2b0d0c09b05e",
        "colab": {
          "base_uri": "https://localhost:8080/"
        }
      },
      "execution_count": 37,
      "outputs": [
        {
          "output_type": "stream",
          "name": "stdout",
          "text": [
            "{'producer': 'EDGRpdf Service w/ EO.Pdf 22.0.40.0', 'creator': 'EDGAR Filing HTML Converter', 'creationdate': '2023-07-20T16:22:00-04:00', 'title': '0000320187-23-000039', 'author': 'EDGAR Online, a division of Donnelley Financial Solutions', 'subject': 'Form 10-K filed on 2023-07-20 for the period ending 2023-05-31', 'keywords': '0000320187-23-000039; ; 10-K', 'moddate': '2023-07-20T16:22:08-04:00', 'source': '/content/drive/MyDrive/PData/nke-10k-2023.pdf', 'total_pages': 107, 'page': 0, 'page_label': '1'}\n"
          ]
        }
      ]
    },
    {
      "cell_type": "markdown",
      "source": [
        "#Splitting"
      ],
      "metadata": {
        "id": "_TwoXac84qvu"
      }
    },
    {
      "cell_type": "code",
      "source": [
        "#A page might have information that is not really concise. End goal should be to retrieve Document objects that answer an input query\n",
        "#Nearby text shouldn't wash out the meaning of relavant portions, so we use text splitters\n",
        "#Here we will be splitting documents into chunks of 1000 characters with a 200 character overlap"
      ],
      "metadata": {
        "id": "w8ygGS044sl_"
      },
      "execution_count": 41,
      "outputs": []
    },
    {
      "cell_type": "code",
      "source": [
        "from langchain_text_splitters import RecursiveCharacterTextSplitter\n",
        "\n",
        "text_splitter=RecursiveCharacterTextSplitter(\n",
        "    chunk_size=1000,chunk_overlap=200,add_start_index=True\n",
        "    #add_start_index tracks where the chunk initially started from in the orginal Document\n",
        ")\n",
        "all_splits=text_splitter.split_documents(docs)\n",
        "len(all_splits)"
      ],
      "metadata": {
        "colab": {
          "base_uri": "https://localhost:8080/"
        },
        "id": "BCimEJ8S6667",
        "outputId": "ebcb8870-0d44-424b-a58f-0d5da50bb1e6"
      },
      "execution_count": 43,
      "outputs": [
        {
          "output_type": "execute_result",
          "data": {
            "text/plain": [
              "516"
            ]
          },
          "metadata": {},
          "execution_count": 43
        }
      ]
    },
    {
      "cell_type": "markdown",
      "source": [
        "#Embedding and Vectorizing"
      ],
      "metadata": {
        "id": "5XVP_3Kkzm0q"
      }
    },
    {
      "cell_type": "code",
      "source": [
        "#Vector search is a common way to store and search over unstructured data\n",
        "#VectorStore contains methods for adding text and Document objects to the store\n",
        "#and querying them using various similarity metrics"
      ],
      "metadata": {
        "id": "_11AL5a_H3tB"
      },
      "execution_count": 44,
      "outputs": []
    },
    {
      "cell_type": "code",
      "source": [
        "from langchain.chat_models import init_chat_model\n",
        "llm=init_chat_model(\"gemini-2.0-flash\",model_provider='google_genai')"
      ],
      "metadata": {
        "id": "JnOo-8LHEzRf"
      },
      "execution_count": 45,
      "outputs": []
    },
    {
      "cell_type": "code",
      "source": [
        "from langchain_google_genai import GoogleGenerativeAIEmbeddings #imports the Embedding model related to the Gemini models\n",
        "embeddings=GoogleGenerativeAIEmbeddings(model=\"models/embedding-001\")"
      ],
      "metadata": {
        "id": "3EvlRHcLF8Ab"
      },
      "execution_count": 46,
      "outputs": []
    },
    {
      "cell_type": "code",
      "source": [
        "#Creates a vector store in-memory, ie in the form of a python dictionary and uses cosine similarity to match\n",
        "from langchain_core.vectorstores import InMemoryVectorStore\n",
        "vector_store=InMemoryVectorStore(embeddings)"
      ],
      "metadata": {
        "id": "VJxGYkFEHqY8"
      },
      "execution_count": 47,
      "outputs": []
    },
    {
      "cell_type": "code",
      "source": [
        "vector1=embeddings.embed_query(all_splits[0].page_content)\n",
        "vector2=embeddings.embed_query(all_splits[1].page_content)\n",
        "assert len(vector1)==len(vector2)\n",
        "print(f\"Generated vectors of length {len(vector1)}\\n\")\n",
        "print(vector1[:10])"
      ],
      "metadata": {
        "id": "Gkmp4rN4IZEa",
        "colab": {
          "base_uri": "https://localhost:8080/"
        },
        "outputId": "fa4874f1-b742-46f2-a488-11dab1d4e386"
      },
      "execution_count": 50,
      "outputs": [
        {
          "output_type": "stream",
          "name": "stdout",
          "text": [
            "Generated vectors of length 768\n",
            "\n",
            "[0.003303560661152005, -0.01885664090514183, -0.023528870195150375, 0.013265608809888363, 0.04694835841655731, 0.04489297419786453, 0.030707117170095444, 0.017642803490161896, 0.0011852466268464923, 0.028473228216171265]\n"
          ]
        }
      ]
    },
    {
      "cell_type": "code",
      "source": [
        "ids=vector_store.add_documents(documents=all_splits) #all_splits is the variable that holds the split Documents"
      ],
      "metadata": {
        "id": "_QiWeSWHJBiE"
      },
      "execution_count": 52,
      "outputs": []
    },
    {
      "cell_type": "markdown",
      "source": [
        "#Usage"
      ],
      "metadata": {
        "id": "ZBK-ncusK5n0"
      }
    },
    {
      "cell_type": "code",
      "source": [],
      "metadata": {
        "id": "kpaCcBl9KdE3"
      },
      "execution_count": null,
      "outputs": []
    }
  ]
}