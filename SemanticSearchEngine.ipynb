{
  "nbformat": 4,
  "nbformat_minor": 0,
  "metadata": {
    "colab": {
      "provenance": [],
      "authorship_tag": "ABX9TyMWdKHVRTjl9Pk7NcBjRJtr",
      "include_colab_link": true
    },
    "kernelspec": {
      "name": "python3",
      "display_name": "Python 3"
    },
    "language_info": {
      "name": "python"
    }
  },
  "cells": [
    {
      "cell_type": "markdown",
      "metadata": {
        "id": "view-in-github",
        "colab_type": "text"
      },
      "source": [
        "<a href=\"https://colab.research.google.com/github/sanislearning/LangChainProjects/blob/main/SemanticSearchEngine.ipynb\" target=\"_parent\"><img src=\"https://colab.research.google.com/assets/colab-badge.svg\" alt=\"Open In Colab\"/></a>"
      ]
    },
    {
      "cell_type": "code",
      "execution_count": 30,
      "metadata": {
        "id": "MEbJbzURA9yu"
      },
      "outputs": [],
      "source": [
        "#Goal is to familiarize with LangChain's document loader, embedding and vector store abstractions"
      ]
    },
    {
      "cell_type": "code",
      "source": [
        "import pandas as pd\n",
        "import numpy as np\n",
        "from google.colab import userdata"
      ],
      "metadata": {
        "id": "7juWTob6tWjH"
      },
      "execution_count": 31,
      "outputs": []
    },
    {
      "cell_type": "code",
      "source": [
        "import getpass\n",
        "import os\n",
        "\n",
        "os.environ[\"LANGSMITH_TRACING\"]='true'\n",
        "os.environ['LANGSMITH_API_KEY']=userdata.get('LANGSMITH_API_KEY')"
      ],
      "metadata": {
        "id": "68FLNIQEC75R"
      },
      "execution_count": 32,
      "outputs": []
    },
    {
      "cell_type": "code",
      "source": [
        "if not os.environ.get(\"GOOGLE_API_KEY\"):\n",
        "  os.environ['GOOGLE_API_KEY']=userdata.get('GOOGLE_API_KEY')"
      ],
      "metadata": {
        "id": "qumHXIIODmDs"
      },
      "execution_count": 33,
      "outputs": []
    },
    {
      "cell_type": "markdown",
      "source": [
        "#Documents"
      ],
      "metadata": {
        "id": "xt3U0y1-lwM3"
      }
    },
    {
      "cell_type": "code",
      "source": [
        "from langchain_core.documents import Document"
      ],
      "metadata": {
        "id": "RhA0W2gtl_qL"
      },
      "execution_count": 34,
      "outputs": []
    },
    {
      "cell_type": "code",
      "source": [
        "from langchain_community.document_loaders import PyPDFLoader\n",
        "from google.colab import drive\n",
        "drive.mount('/content/drive')\n",
        "file_path=\"/content/drive/MyDrive/PData/nke-10k-2023.pdf\"\n",
        "\n",
        "loader=PyPDFLoader(file_path)\n",
        "#PyPDFLoader loads one Document object per PDF page\n",
        "#A Document object contains a unit of text and associated metadata\n",
        "docs=loader.load()\n",
        "print(len(docs))"
      ],
      "metadata": {
        "id": "2Z1OgM0Zlyye",
        "colab": {
          "base_uri": "https://localhost:8080/"
        },
        "outputId": "a947ee6e-4645-420f-e5fc-e7d8300ee6ec"
      },
      "execution_count": 35,
      "outputs": [
        {
          "output_type": "stream",
          "name": "stdout",
          "text": [
            "Drive already mounted at /content/drive; to attempt to forcibly remount, call drive.mount(\"/content/drive\", force_remount=True).\n",
            "107\n"
          ]
        }
      ]
    },
    {
      "cell_type": "code",
      "source": [
        "print(f\"{docs[0].page_content}\")"
      ],
      "metadata": {
        "colab": {
          "base_uri": "https://localhost:8080/"
        },
        "id": "P_H4FEanxoQk",
        "outputId": "9b29fa7c-0cf0-4b87-bb3d-4e2ac28c1558"
      },
      "execution_count": 36,
      "outputs": [
        {
          "output_type": "stream",
          "name": "stdout",
          "text": [
            "Table of Contents\n",
            "UNITED STATES\n",
            "SECURITIES AND EXCHANGE COMMISSION\n",
            "Washington, D.C. 20549\n",
            "FORM 10-K\n",
            "(Mark One)\n",
            "☑  ANNUAL REPORT PURSUANT TO SECTION 13 OR 15(D) OF THE SECURITIES EXCHANGE ACT OF 1934\n",
            "FOR THE FISCAL YEAR ENDED MAY 31, 2023\n",
            "OR\n",
            "☐  TRANSITION REPORT PURSUANT TO SECTION 13 OR 15(D) OF THE SECURITIES EXCHANGE ACT OF 1934\n",
            "FOR THE TRANSITION PERIOD FROM                         TO                         .\n",
            "Commission File No. 1-10635\n",
            "NIKE, Inc.\n",
            "(Exact name of Registrant as specified in its charter)\n",
            "Oregon 93-0584541\n",
            "(State or other jurisdiction of incorporation) (IRS Employer Identification No.)\n",
            "One Bowerman Drive, Beaverton, Oregon 97005-6453\n",
            "(Address of principal executive offices and zip code)\n",
            "(503) 671-6453\n",
            "(Registrant's telephone number, including area code)\n",
            "SECURITIES REGISTERED PURSUANT TO SECTION 12(B) OF THE ACT:\n",
            "Class B Common Stock NKE New York Stock Exchange\n",
            "(Title of each class) (Trading symbol) (Name of each exchange on which registered)\n",
            "SECURITIES REGISTERED PURSUANT TO SECTION 12(G) OF THE ACT:\n",
            "NONE\n",
            "Indicate by check mark: YES NO\n",
            "• if the registrant is a well-known seasoned issuer, as defined in Rule 405 of the Securities Act. þ ¨ \n",
            "• if the registrant is not required to file reports pursuant to Section 13 or Section 15(d) of the Act. ¨ þ \n",
            "• whether the registrant (1) has filed all reports required to be filed by Section 13 or 15(d) of the Securities Exchange Act of 1934 during the preceding\n",
            "12 months (or for such shorter period that the registrant was required to file such reports), and (2) has been subject to such filing requirements for the\n",
            "past 90 days.\n",
            "þ ¨ \n",
            "• whether the registrant has submitted electronically every Interactive Data File required to be submitted pursuant to Rule 405 of Regulation S-T\n",
            "(§232.405 of this chapter) during the preceding 12 months (or for such shorter period that the registrant was required to submit such files).\n",
            "þ ¨ \n",
            "• whether the registrant is a large accelerated filer, an accelerated filer, a non-accelerated filer, a smaller reporting company or an emerging growth company. See the definitions of “large accelerated filer,”\n",
            "“accelerated filer,” “smaller reporting company,” and “emerging growth company” in Rule 12b-2 of the Exchange Act.\n",
            "Large accelerated filer þ Accelerated filer ☐ Non-accelerated filer ☐ Smaller reporting company ☐ Emerging growth company ☐ \n",
            "• if an emerging growth company, if the registrant has elected not to use the extended transition period for complying with any new or revised financial\n",
            "accounting standards provided pursuant to Section 13(a) of the Exchange Act.\n",
            "¨ \n",
            "• whether the registrant has filed a report on and attestation to its management's assessment of the effectiveness of its internal control over financial\n",
            "reporting under Section 404(b) of the Sarbanes-Oxley Act (15 U.S.C. 7262(b)) by the registered public accounting firm that prepared or issued its audit\n",
            "report.\n",
            "þ \n",
            "• if securities are registered pursuant to Section 12(b) of the Act, whether the financial statements of the registrant included in the filing reflect the\n",
            "correction of an error to previously issued financial statements.\n",
            "¨ \n",
            "• whether any of those error corrections are restatements that required a recovery analysis of incentive-based compensation received by any of the\n",
            "registrant's executive officers during the relevant recovery period pursuant to § 240.10D-1(b).\n",
            "¨ \n",
            "• whether the registrant is a shell company (as defined in Rule 12b-2 of the Act). ☐ þ \n",
            "As of November 30, 2022, the aggregate market values of the Registrant's Common Stock held by non-affiliates were:\n",
            "Class A $ 7,831,564,572 \n",
            "Class B 136,467,702,472 \n",
            "$ 144,299,267,044\n"
          ]
        }
      ]
    },
    {
      "cell_type": "code",
      "source": [
        "print(docs[0].metadata)"
      ],
      "metadata": {
        "id": "7o9KkB8HyavV",
        "outputId": "c5c2e00a-1c19-4dd7-a246-2b0d0c09b05e",
        "colab": {
          "base_uri": "https://localhost:8080/"
        }
      },
      "execution_count": 37,
      "outputs": [
        {
          "output_type": "stream",
          "name": "stdout",
          "text": [
            "{'producer': 'EDGRpdf Service w/ EO.Pdf 22.0.40.0', 'creator': 'EDGAR Filing HTML Converter', 'creationdate': '2023-07-20T16:22:00-04:00', 'title': '0000320187-23-000039', 'author': 'EDGAR Online, a division of Donnelley Financial Solutions', 'subject': 'Form 10-K filed on 2023-07-20 for the period ending 2023-05-31', 'keywords': '0000320187-23-000039; ; 10-K', 'moddate': '2023-07-20T16:22:08-04:00', 'source': '/content/drive/MyDrive/PData/nke-10k-2023.pdf', 'total_pages': 107, 'page': 0, 'page_label': '1'}\n"
          ]
        }
      ]
    },
    {
      "cell_type": "markdown",
      "source": [
        "#Splitting"
      ],
      "metadata": {
        "id": "_TwoXac84qvu"
      }
    },
    {
      "cell_type": "code",
      "source": [
        "#A page might have information that is not really concise. End goal should be to retrieve Document objects that answer an input query\n",
        "#Nearby text shouldn't wash out the meaning of relavant portions, so we use text splitters\n",
        "#Here we will be splitting documents into chunks of 1000 characters with a 200 character overlap"
      ],
      "metadata": {
        "id": "w8ygGS044sl_"
      },
      "execution_count": 41,
      "outputs": []
    },
    {
      "cell_type": "code",
      "source": [
        "from langchain_text_splitters import RecursiveCharacterTextSplitter\n",
        "\n",
        "text_splitter=RecursiveCharacterTextSplitter(\n",
        "    chunk_size=1000,chunk_overlap=200,add_start_index=True\n",
        "    #add_start_index tracks where the chunk initially started from in the orginal Document\n",
        ")\n",
        "all_splits=text_splitter.split_documents(docs)\n",
        "len(all_splits)"
      ],
      "metadata": {
        "colab": {
          "base_uri": "https://localhost:8080/"
        },
        "id": "BCimEJ8S6667",
        "outputId": "ebcb8870-0d44-424b-a58f-0d5da50bb1e6"
      },
      "execution_count": 43,
      "outputs": [
        {
          "output_type": "execute_result",
          "data": {
            "text/plain": [
              "516"
            ]
          },
          "metadata": {},
          "execution_count": 43
        }
      ]
    },
    {
      "cell_type": "markdown",
      "source": [
        "#Embedding and Vectorizing"
      ],
      "metadata": {
        "id": "5XVP_3Kkzm0q"
      }
    },
    {
      "cell_type": "code",
      "source": [
        "#Vector search is a common way to store and search over unstructured data\n",
        "#VectorStore contains methods for adding text and Document objects to the store\n",
        "#and querying them using various similarity metrics"
      ],
      "metadata": {
        "id": "_11AL5a_H3tB"
      },
      "execution_count": 44,
      "outputs": []
    },
    {
      "cell_type": "code",
      "source": [
        "from langchain.chat_models import init_chat_model\n",
        "llm=init_chat_model(\"gemini-2.0-flash\",model_provider='google_genai')"
      ],
      "metadata": {
        "id": "JnOo-8LHEzRf"
      },
      "execution_count": 45,
      "outputs": []
    },
    {
      "cell_type": "code",
      "source": [
        "from langchain_google_genai import GoogleGenerativeAIEmbeddings #imports the Embedding model related to the Gemini models\n",
        "embeddings=GoogleGenerativeAIEmbeddings(model=\"models/embedding-001\")"
      ],
      "metadata": {
        "id": "3EvlRHcLF8Ab"
      },
      "execution_count": 46,
      "outputs": []
    },
    {
      "cell_type": "code",
      "source": [
        "#Creates a vector store in-memory, ie in the form of a python dictionary and uses cosine similarity to match\n",
        "from langchain_core.vectorstores import InMemoryVectorStore\n",
        "vector_store=InMemoryVectorStore(embeddings)"
      ],
      "metadata": {
        "id": "VJxGYkFEHqY8"
      },
      "execution_count": 47,
      "outputs": []
    },
    {
      "cell_type": "code",
      "source": [
        "vector1=embeddings.embed_query(all_splits[0].page_content)\n",
        "vector2=embeddings.embed_query(all_splits[1].page_content)\n",
        "assert len(vector1)==len(vector2)\n",
        "print(f\"Generated vectors of length {len(vector1)}\\n\")\n",
        "print(vector1[:10])"
      ],
      "metadata": {
        "id": "Gkmp4rN4IZEa",
        "colab": {
          "base_uri": "https://localhost:8080/"
        },
        "outputId": "fa4874f1-b742-46f2-a488-11dab1d4e386"
      },
      "execution_count": 50,
      "outputs": [
        {
          "output_type": "stream",
          "name": "stdout",
          "text": [
            "Generated vectors of length 768\n",
            "\n",
            "[0.003303560661152005, -0.01885664090514183, -0.023528870195150375, 0.013265608809888363, 0.04694835841655731, 0.04489297419786453, 0.030707117170095444, 0.017642803490161896, 0.0011852466268464923, 0.028473228216171265]\n"
          ]
        }
      ]
    },
    {
      "cell_type": "code",
      "source": [
        "ids=vector_store.add_documents(documents=all_splits) #all_splits is the variable that holds the split Documents"
      ],
      "metadata": {
        "id": "_QiWeSWHJBiE"
      },
      "execution_count": 52,
      "outputs": []
    },
    {
      "cell_type": "markdown",
      "source": [
        "#Usage"
      ],
      "metadata": {
        "id": "ZBK-ncusK5n0"
      }
    },
    {
      "cell_type": "code",
      "source": [
        "results=vector_store.similarity_search(\n",
        "    \"Are nike shoes for athletes ?\"\n",
        ")\n",
        "print(results[0])"
      ],
      "metadata": {
        "colab": {
          "base_uri": "https://localhost:8080/"
        },
        "id": "kpaCcBl9KdE3",
        "outputId": "bae79f68-e200-4991-9d8a-836becbc5ca4"
      },
      "execution_count": 57,
      "outputs": [
        {
          "output_type": "stream",
          "name": "stdout",
          "text": [
            "page_content='We also sell sports apparel, which features the same trademarks and are sold predominantly through the same marketing and distribution channels as athletic footwear.\n",
            "Our sports apparel, similar to our athletic footwear products, is designed primarily for athletic use, although many of the products are worn for casual or leisure purposes,\n",
            "and demonstrates our commitment to innovation and high-quality construction. Our Men's and Women's apparel products currently lead in apparel sales and we expect\n",
            "them to continue to do so. We often market footwear, apparel and accessories in \"collections\" of similar use or by category. We also market apparel with licensed college\n",
            "and professional team and league logos.\n",
            "We sell a line of performance equipment and accessories under the NIKE Brand name, including bags, socks, sport balls, eyewear, timepieces, digital devices, bats,' metadata={'producer': 'EDGRpdf Service w/ EO.Pdf 22.0.40.0', 'creator': 'EDGAR Filing HTML Converter', 'creationdate': '2023-07-20T16:22:00-04:00', 'title': '0000320187-23-000039', 'author': 'EDGAR Online, a division of Donnelley Financial Solutions', 'subject': 'Form 10-K filed on 2023-07-20 for the period ending 2023-05-31', 'keywords': '0000320187-23-000039; ; 10-K', 'moddate': '2023-07-20T16:22:08-04:00', 'source': '/content/drive/MyDrive/PData/nke-10k-2023.pdf', 'total_pages': 107, 'page': 3, 'page_label': '4', 'start_index': 2264}\n"
          ]
        }
      ]
    },
    {
      "cell_type": "code",
      "source": [
        "#Async Query\n",
        "result=await vector_store.asimilarity_search(\"When was Nike created?\")\n",
        "print(result[0])"
      ],
      "metadata": {
        "colab": {
          "base_uri": "https://localhost:8080/"
        },
        "id": "EJWb6bUvPbZj",
        "outputId": "2d0c92f3-ae74-4a34-b253-49d6a8339b40"
      },
      "execution_count": 58,
      "outputs": [
        {
          "output_type": "stream",
          "name": "stdout",
          "text": [
            "page_content='Table of Contents\n",
            "PART I\n",
            "ITEM 1. BUSINESS\n",
            "GENERAL\n",
            "NIKE, Inc. was incorporated in 1967 under the laws of the State of Oregon. As used in this Annual Report on Form 10-K (this \"Annual Report\"), the terms \"we,\" \"us,\" \"our,\"\n",
            "\"NIKE\" and the \"Company\" refer to NIKE, Inc. and its predecessors, subsidiaries and affiliates, collectively, unless the context indicates otherwise.\n",
            "Our principal business activity is the design, development and worldwide marketing and selling of athletic footwear, apparel, equipment, accessories and services. NIKE is\n",
            "the largest seller of athletic footwear and apparel in the world. We sell our products through NIKE Direct operations, which are comprised of both NIKE-owned retail stores\n",
            "and sales through our digital platforms (also referred to as \"NIKE Brand Digital\"), to retail accounts and to a mix of independent distributors, licensees and sales' metadata={'producer': 'EDGRpdf Service w/ EO.Pdf 22.0.40.0', 'creator': 'EDGAR Filing HTML Converter', 'creationdate': '2023-07-20T16:22:00-04:00', 'title': '0000320187-23-000039', 'author': 'EDGAR Online, a division of Donnelley Financial Solutions', 'subject': 'Form 10-K filed on 2023-07-20 for the period ending 2023-05-31', 'keywords': '0000320187-23-000039; ; 10-K', 'moddate': '2023-07-20T16:22:08-04:00', 'source': '/content/drive/MyDrive/PData/nke-10k-2023.pdf', 'total_pages': 107, 'page': 3, 'page_label': '4', 'start_index': 0}\n"
          ]
        }
      ]
    },
    {
      "cell_type": "code",
      "source": [
        "#Score is a distance metric that varies inversely with similarity\n",
        "\n",
        "results=vector_store.similarity_search_with_score(\"What was Nike's revenue in 2023?\")\n",
        "doc,score=results[0]\n",
        "print(f'Score: {score}\\n')\n",
        "print(doc)"
      ],
      "metadata": {
        "colab": {
          "base_uri": "https://localhost:8080/"
        },
        "id": "S9jHhBfSQWad",
        "outputId": "1a5616db-7cb9-404b-bf59-3c11ca0e414b"
      },
      "execution_count": 59,
      "outputs": [
        {
          "output_type": "stream",
          "name": "stdout",
          "text": [
            "Score: 0.7798891596101759\n",
            "\n",
            "page_content='Table of Contents\n",
            "FISCAL 2023 NIKE BRAND REVENUE HIGHLIGHTSThe following tables present NIKE Brand revenues disaggregated by reportable operating segment, distribution channel and major product line:\n",
            "FISCAL 2023 COMPARED TO FISCAL 2022\n",
            "• NIKE, Inc. Revenues were $51.2 billion in fiscal 2023, which increased 10% and 16% compared to fiscal 2022 on a reported and currency-neutral basis, respectively.\n",
            "The increase was due to higher revenues in North America, Europe, Middle East & Africa (\"EMEA\"), APLA and Greater China, which contributed approximately 7, 6,\n",
            "2 and 1 percentage points to NIKE, Inc. Revenues, respectively.\n",
            "• NIKE Brand revenues, which represented over 90% of NIKE, Inc. Revenues, increased 10% and 16% on a reported and currency-neutral basis, respectively. This\n",
            "increase was primarily due to higher revenues in Men's, the Jordan Brand, Women's and Kids' which grew 17%, 35%,11% and 10%, respectively, on a wholesale\n",
            "equivalent basis.' metadata={'producer': 'EDGRpdf Service w/ EO.Pdf 22.0.40.0', 'creator': 'EDGAR Filing HTML Converter', 'creationdate': '2023-07-20T16:22:00-04:00', 'title': '0000320187-23-000039', 'author': 'EDGAR Online, a division of Donnelley Financial Solutions', 'subject': 'Form 10-K filed on 2023-07-20 for the period ending 2023-05-31', 'keywords': '0000320187-23-000039; ; 10-K', 'moddate': '2023-07-20T16:22:08-04:00', 'source': '/content/drive/MyDrive/PData/nke-10k-2023.pdf', 'total_pages': 107, 'page': 35, 'page_label': '36', 'start_index': 0}\n"
          ]
        }
      ]
    },
    {
      "cell_type": "code",
      "source": [
        "embedding=embeddings.embed_query(\"How were Nike's margins impacted in 2023?\")\n",
        "results=vector_store.similarity_search_by_vector(embedding)\n",
        "print(results[0])\n",
        "#Querying the vector store via a vectorized query"
      ],
      "metadata": {
        "colab": {
          "base_uri": "https://localhost:8080/"
        },
        "id": "ouyYHELURA67",
        "outputId": "f8799e8e-aa90-4749-8cf9-cbf6c3af59d5"
      },
      "execution_count": 61,
      "outputs": [
        {
          "output_type": "stream",
          "name": "stdout",
          "text": [
            "page_content='Table of Contents\n",
            "GROSS MARGIN\n",
            "FISCAL 2023 COMPARED TO FISCAL 2022\n",
            "For fiscal 2023, our consolidated gross profit increased 4% to $22,292 million compared to $21,479 million for fiscal 2022. Gross margin decreased 250 basis points to\n",
            "43.5% for fiscal 2023 compared to 46.0% for fiscal 2022 due to the following:\n",
            "*Wholesale equivalent\n",
            "The decrease in gross margin for fiscal 2023 was primarily due to:\n",
            "• Higher NIKE Brand product costs, on a wholesale equivalent basis, primarily due to higher input costs and elevated inbound freight and logistics costs as well as\n",
            "product mix;\n",
            "• Lower margin in our NIKE Direct business, driven by higher promotional activity to liquidate inventory in the current period compared to lower promotional activity in\n",
            "the prior period resulting from lower available inventory supply;\n",
            "• Unfavorable changes in net foreign currency exchange rates, including hedges; and\n",
            "• Lower off-price margin, on a wholesale equivalent basis.\n",
            "This was partially offset by:' metadata={'producer': 'EDGRpdf Service w/ EO.Pdf 22.0.40.0', 'creator': 'EDGAR Filing HTML Converter', 'creationdate': '2023-07-20T16:22:00-04:00', 'title': '0000320187-23-000039', 'author': 'EDGAR Online, a division of Donnelley Financial Solutions', 'subject': 'Form 10-K filed on 2023-07-20 for the period ending 2023-05-31', 'keywords': '0000320187-23-000039; ; 10-K', 'moddate': '2023-07-20T16:22:08-04:00', 'source': '/content/drive/MyDrive/PData/nke-10k-2023.pdf', 'total_pages': 107, 'page': 36, 'page_label': '37', 'start_index': 0}\n"
          ]
        }
      ]
    },
    {
      "cell_type": "markdown",
      "source": [
        "#Retrievers"
      ],
      "metadata": {
        "id": "0fdezKhjTeLY"
      }
    },
    {
      "cell_type": "code",
      "source": [
        "#Runnables are a unit of work that can be invoked, batched, streamed, transformed and composed.\n",
        "#VectorStore objects are not runnable and so we have Retrivers\n",
        "#Retrivers can be constructed from vector stores"
      ],
      "metadata": {
        "id": "3V4fCkJZSEua"
      },
      "execution_count": 63,
      "outputs": []
    },
    {
      "cell_type": "code",
      "source": [
        "from typing import List\n",
        "\n",
        "from langchain_core.documents import Document\n",
        "from langchain_core.runnables import chain\n",
        "\n",
        "@chain  #chain is a decorator that changes an function into a Runnable\n",
        "def retriever(query:str)->List[Document]:\n",
        "  return vector_store.similarity_search(query,k=1) #k controls chaos\n",
        "\n",
        "retriever.batch(\n",
        "    [\n",
        "        \"How many distribution centers does Nike have in the US?\",\n",
        "        \"When was Nike incorporated?\",\n",
        "    ],\n",
        ")"
      ],
      "metadata": {
        "colab": {
          "base_uri": "https://localhost:8080/"
        },
        "id": "ReTZQ7GVT9gE",
        "outputId": "c860877f-cd4a-4e71-e129-4daefde050e6"
      },
      "execution_count": 64,
      "outputs": [
        {
          "output_type": "execute_result",
          "data": {
            "text/plain": [
              "[[Document(id='9b61c8b5-c14d-4739-b5bf-436250fd72cb', metadata={'producer': 'EDGRpdf Service w/ EO.Pdf 22.0.40.0', 'creator': 'EDGAR Filing HTML Converter', 'creationdate': '2023-07-20T16:22:00-04:00', 'title': '0000320187-23-000039', 'author': 'EDGAR Online, a division of Donnelley Financial Solutions', 'subject': 'Form 10-K filed on 2023-07-20 for the period ending 2023-05-31', 'keywords': '0000320187-23-000039; ; 10-K', 'moddate': '2023-07-20T16:22:08-04:00', 'source': '/content/drive/MyDrive/PData/nke-10k-2023.pdf', 'total_pages': 107, 'page': 26, 'page_label': '27', 'start_index': 804}, page_content='operations. We also lease an office complex in Shanghai, China, our headquarters for our Greater China geography, occupied by employees focused on implementing our\\nwholesale, NIKE Direct and merchandising strategies in the region, among other functions.\\nIn the United States, NIKE has eight significant distribution centers. Five are located in or near Memphis, Tennessee, two of which are owned and three of which are\\nleased. Two other distribution centers, one located in Indianapolis, Indiana and one located in Dayton, Tennessee, are leased and operated by third-party logistics\\nproviders. One distribution center for Converse is located in Ontario, California, which is leased. NIKE has a number of distribution facilities outside the United States,\\nsome of which are leased and operated by third-party logistics providers. The most significant distribution facilities outside the United States are located in Laakdal,')],\n",
              " [Document(id='6efdbfa3-93b7-4f48-9a91-85e6e389ab15', metadata={'producer': 'EDGRpdf Service w/ EO.Pdf 22.0.40.0', 'creator': 'EDGAR Filing HTML Converter', 'creationdate': '2023-07-20T16:22:00-04:00', 'title': '0000320187-23-000039', 'author': 'EDGAR Online, a division of Donnelley Financial Solutions', 'subject': 'Form 10-K filed on 2023-07-20 for the period ending 2023-05-31', 'keywords': '0000320187-23-000039; ; 10-K', 'moddate': '2023-07-20T16:22:08-04:00', 'source': '/content/drive/MyDrive/PData/nke-10k-2023.pdf', 'total_pages': 107, 'page': 3, 'page_label': '4', 'start_index': 0}, page_content='Table of Contents\\nPART I\\nITEM 1. BUSINESS\\nGENERAL\\nNIKE, Inc. was incorporated in 1967 under the laws of the State of Oregon. As used in this Annual Report on Form 10-K (this \"Annual Report\"), the terms \"we,\" \"us,\" \"our,\"\\n\"NIKE\" and the \"Company\" refer to NIKE, Inc. and its predecessors, subsidiaries and affiliates, collectively, unless the context indicates otherwise.\\nOur principal business activity is the design, development and worldwide marketing and selling of athletic footwear, apparel, equipment, accessories and services. NIKE is\\nthe largest seller of athletic footwear and apparel in the world. We sell our products through NIKE Direct operations, which are comprised of both NIKE-owned retail stores\\nand sales through our digital platforms (also referred to as \"NIKE Brand Digital\"), to retail accounts and to a mix of independent distributors, licensees and sales')]]"
            ]
          },
          "metadata": {},
          "execution_count": 64
        }
      ]
    },
    {
      "cell_type": "code",
      "source": [
        "#Replicating what is above with as_retriever from VectorStore\n",
        "\n",
        "retriever=vector_store.as_retriever(\n",
        "    search_type=\"similarity\",\n",
        "    search_kwargs={\"k\":1},\n",
        ")\n",
        "\n",
        "retriever.batch(\n",
        "    [\n",
        "        \"How many distribution centers does Nike have in the US?\",\n",
        "        \"When was Nike incorporated?\",\n",
        "    ]\n",
        ")"
      ],
      "metadata": {
        "colab": {
          "base_uri": "https://localhost:8080/"
        },
        "id": "N8kr_UTRWfvp",
        "outputId": "8f82f4cf-e6fa-45ad-edd1-71914d43f89d"
      },
      "execution_count": 66,
      "outputs": [
        {
          "output_type": "execute_result",
          "data": {
            "text/plain": [
              "[[Document(id='9b61c8b5-c14d-4739-b5bf-436250fd72cb', metadata={'producer': 'EDGRpdf Service w/ EO.Pdf 22.0.40.0', 'creator': 'EDGAR Filing HTML Converter', 'creationdate': '2023-07-20T16:22:00-04:00', 'title': '0000320187-23-000039', 'author': 'EDGAR Online, a division of Donnelley Financial Solutions', 'subject': 'Form 10-K filed on 2023-07-20 for the period ending 2023-05-31', 'keywords': '0000320187-23-000039; ; 10-K', 'moddate': '2023-07-20T16:22:08-04:00', 'source': '/content/drive/MyDrive/PData/nke-10k-2023.pdf', 'total_pages': 107, 'page': 26, 'page_label': '27', 'start_index': 804}, page_content='operations. We also lease an office complex in Shanghai, China, our headquarters for our Greater China geography, occupied by employees focused on implementing our\\nwholesale, NIKE Direct and merchandising strategies in the region, among other functions.\\nIn the United States, NIKE has eight significant distribution centers. Five are located in or near Memphis, Tennessee, two of which are owned and three of which are\\nleased. Two other distribution centers, one located in Indianapolis, Indiana and one located in Dayton, Tennessee, are leased and operated by third-party logistics\\nproviders. One distribution center for Converse is located in Ontario, California, which is leased. NIKE has a number of distribution facilities outside the United States,\\nsome of which are leased and operated by third-party logistics providers. The most significant distribution facilities outside the United States are located in Laakdal,')],\n",
              " [Document(id='6efdbfa3-93b7-4f48-9a91-85e6e389ab15', metadata={'producer': 'EDGRpdf Service w/ EO.Pdf 22.0.40.0', 'creator': 'EDGAR Filing HTML Converter', 'creationdate': '2023-07-20T16:22:00-04:00', 'title': '0000320187-23-000039', 'author': 'EDGAR Online, a division of Donnelley Financial Solutions', 'subject': 'Form 10-K filed on 2023-07-20 for the period ending 2023-05-31', 'keywords': '0000320187-23-000039; ; 10-K', 'moddate': '2023-07-20T16:22:08-04:00', 'source': '/content/drive/MyDrive/PData/nke-10k-2023.pdf', 'total_pages': 107, 'page': 3, 'page_label': '4', 'start_index': 0}, page_content='Table of Contents\\nPART I\\nITEM 1. BUSINESS\\nGENERAL\\nNIKE, Inc. was incorporated in 1967 under the laws of the State of Oregon. As used in this Annual Report on Form 10-K (this \"Annual Report\"), the terms \"we,\" \"us,\" \"our,\"\\n\"NIKE\" and the \"Company\" refer to NIKE, Inc. and its predecessors, subsidiaries and affiliates, collectively, unless the context indicates otherwise.\\nOur principal business activity is the design, development and worldwide marketing and selling of athletic footwear, apparel, equipment, accessories and services. NIKE is\\nthe largest seller of athletic footwear and apparel in the world. We sell our products through NIKE Direct operations, which are comprised of both NIKE-owned retail stores\\nand sales through our digital platforms (also referred to as \"NIKE Brand Digital\"), to retail accounts and to a mix of independent distributors, licensees and sales')]]"
            ]
          },
          "metadata": {},
          "execution_count": 66
        }
      ]
    },
    {
      "cell_type": "code",
      "source": [],
      "metadata": {
        "id": "lxcr4yT_XFsn"
      },
      "execution_count": null,
      "outputs": []
    }
  ]
}